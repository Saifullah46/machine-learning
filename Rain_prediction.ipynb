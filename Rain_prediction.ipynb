{
 "cells": [
  {
   "cell_type": "code",
   "execution_count": 4,
   "metadata": {
    "_cell_guid": "b1076dfc-b9ad-4769-8c92-a6c4dae69d19",
    "_uuid": "8f2839f25d086af736a60e9eeb907d3b93b6e0e5",
    "execution": {
     "iopub.execute_input": "2023-09-16T14:29:20.086077Z",
     "iopub.status.busy": "2023-09-16T14:29:20.085743Z",
     "iopub.status.idle": "2023-09-16T14:29:20.094460Z",
     "shell.execute_reply": "2023-09-16T14:29:20.093885Z",
     "shell.execute_reply.started": "2023-09-16T14:29:20.086046Z"
    }
   },
   "outputs": [
    {
     "name": "stdout",
     "output_type": "stream",
     "text": [
      "/kaggle/input/weather-dataset-rattle-package/weatherAUS.csv\n"
     ]
    }
   ],
   "source": [
    "import numpy as np # linear algebra\n",
    "import pandas as pd # data processing, CSV file I/O (e.g. pd.read_csv)\n",
    "import os\n",
    "for dirname, _, filenames in os.walk('/kaggle/input'):\n",
    "    for filename in filenames:\n",
    "        print(os.path.join(dirname, filename))"
   ]
  },
  {
   "cell_type": "code",
   "execution_count": 5,
   "metadata": {
    "execution": {
     "iopub.execute_input": "2023-09-16T14:29:20.096916Z",
     "iopub.status.busy": "2023-09-16T14:29:20.096594Z",
     "iopub.status.idle": "2023-09-16T14:29:20.342515Z",
     "shell.execute_reply": "2023-09-16T14:29:20.341920Z",
     "shell.execute_reply.started": "2023-09-16T14:29:20.096892Z"
    }
   },
   "outputs": [],
   "source": [
    "import pandas as pd \n",
    "df = pd.read_csv('../input/weather-dataset-rattle-package/weatherAUS.csv')"
   ]
  },
  {
   "cell_type": "code",
   "execution_count": 6,
   "metadata": {
    "execution": {
     "iopub.execute_input": "2023-09-16T14:29:20.344280Z",
     "iopub.status.busy": "2023-09-16T14:29:20.343845Z",
     "iopub.status.idle": "2023-09-16T14:29:20.388336Z",
     "shell.execute_reply": "2023-09-16T14:29:20.387462Z",
     "shell.execute_reply.started": "2023-09-16T14:29:20.344216Z"
    }
   },
   "outputs": [
    {
     "data": {
      "text/html": [
       "<div>\n",
       "<style scoped>\n",
       "    .dataframe tbody tr th:only-of-type {\n",
       "        vertical-align: middle;\n",
       "    }\n",
       "\n",
       "    .dataframe tbody tr th {\n",
       "        vertical-align: top;\n",
       "    }\n",
       "\n",
       "    .dataframe thead th {\n",
       "        text-align: right;\n",
       "    }\n",
       "</style>\n",
       "<table border=\"1\" class=\"dataframe\">\n",
       "  <thead>\n",
       "    <tr style=\"text-align: right;\">\n",
       "      <th></th>\n",
       "      <th>Date</th>\n",
       "      <th>Location</th>\n",
       "      <th>MinTemp</th>\n",
       "      <th>MaxTemp</th>\n",
       "      <th>Rainfall</th>\n",
       "      <th>Evaporation</th>\n",
       "      <th>Sunshine</th>\n",
       "      <th>WindGustDir</th>\n",
       "      <th>WindGustSpeed</th>\n",
       "      <th>WindDir9am</th>\n",
       "      <th>...</th>\n",
       "      <th>Humidity9am</th>\n",
       "      <th>Humidity3pm</th>\n",
       "      <th>Pressure9am</th>\n",
       "      <th>Pressure3pm</th>\n",
       "      <th>Cloud9am</th>\n",
       "      <th>Cloud3pm</th>\n",
       "      <th>Temp9am</th>\n",
       "      <th>Temp3pm</th>\n",
       "      <th>RainToday</th>\n",
       "      <th>RainTomorrow</th>\n",
       "    </tr>\n",
       "  </thead>\n",
       "  <tbody>\n",
       "    <tr>\n",
       "      <th>0</th>\n",
       "      <td>2008-12-01</td>\n",
       "      <td>Albury</td>\n",
       "      <td>13.4</td>\n",
       "      <td>22.9</td>\n",
       "      <td>0.6</td>\n",
       "      <td>NaN</td>\n",
       "      <td>NaN</td>\n",
       "      <td>W</td>\n",
       "      <td>44.0</td>\n",
       "      <td>W</td>\n",
       "      <td>...</td>\n",
       "      <td>71.0</td>\n",
       "      <td>22.0</td>\n",
       "      <td>1007.7</td>\n",
       "      <td>1007.1</td>\n",
       "      <td>8.0</td>\n",
       "      <td>NaN</td>\n",
       "      <td>16.9</td>\n",
       "      <td>21.8</td>\n",
       "      <td>No</td>\n",
       "      <td>No</td>\n",
       "    </tr>\n",
       "    <tr>\n",
       "      <th>1</th>\n",
       "      <td>2008-12-02</td>\n",
       "      <td>Albury</td>\n",
       "      <td>7.4</td>\n",
       "      <td>25.1</td>\n",
       "      <td>0.0</td>\n",
       "      <td>NaN</td>\n",
       "      <td>NaN</td>\n",
       "      <td>WNW</td>\n",
       "      <td>44.0</td>\n",
       "      <td>NNW</td>\n",
       "      <td>...</td>\n",
       "      <td>44.0</td>\n",
       "      <td>25.0</td>\n",
       "      <td>1010.6</td>\n",
       "      <td>1007.8</td>\n",
       "      <td>NaN</td>\n",
       "      <td>NaN</td>\n",
       "      <td>17.2</td>\n",
       "      <td>24.3</td>\n",
       "      <td>No</td>\n",
       "      <td>No</td>\n",
       "    </tr>\n",
       "    <tr>\n",
       "      <th>2</th>\n",
       "      <td>2008-12-03</td>\n",
       "      <td>Albury</td>\n",
       "      <td>12.9</td>\n",
       "      <td>25.7</td>\n",
       "      <td>0.0</td>\n",
       "      <td>NaN</td>\n",
       "      <td>NaN</td>\n",
       "      <td>WSW</td>\n",
       "      <td>46.0</td>\n",
       "      <td>W</td>\n",
       "      <td>...</td>\n",
       "      <td>38.0</td>\n",
       "      <td>30.0</td>\n",
       "      <td>1007.6</td>\n",
       "      <td>1008.7</td>\n",
       "      <td>NaN</td>\n",
       "      <td>2.0</td>\n",
       "      <td>21.0</td>\n",
       "      <td>23.2</td>\n",
       "      <td>No</td>\n",
       "      <td>No</td>\n",
       "    </tr>\n",
       "    <tr>\n",
       "      <th>3</th>\n",
       "      <td>2008-12-04</td>\n",
       "      <td>Albury</td>\n",
       "      <td>9.2</td>\n",
       "      <td>28.0</td>\n",
       "      <td>0.0</td>\n",
       "      <td>NaN</td>\n",
       "      <td>NaN</td>\n",
       "      <td>NE</td>\n",
       "      <td>24.0</td>\n",
       "      <td>SE</td>\n",
       "      <td>...</td>\n",
       "      <td>45.0</td>\n",
       "      <td>16.0</td>\n",
       "      <td>1017.6</td>\n",
       "      <td>1012.8</td>\n",
       "      <td>NaN</td>\n",
       "      <td>NaN</td>\n",
       "      <td>18.1</td>\n",
       "      <td>26.5</td>\n",
       "      <td>No</td>\n",
       "      <td>No</td>\n",
       "    </tr>\n",
       "    <tr>\n",
       "      <th>4</th>\n",
       "      <td>2008-12-05</td>\n",
       "      <td>Albury</td>\n",
       "      <td>17.5</td>\n",
       "      <td>32.3</td>\n",
       "      <td>1.0</td>\n",
       "      <td>NaN</td>\n",
       "      <td>NaN</td>\n",
       "      <td>W</td>\n",
       "      <td>41.0</td>\n",
       "      <td>ENE</td>\n",
       "      <td>...</td>\n",
       "      <td>82.0</td>\n",
       "      <td>33.0</td>\n",
       "      <td>1010.8</td>\n",
       "      <td>1006.0</td>\n",
       "      <td>7.0</td>\n",
       "      <td>8.0</td>\n",
       "      <td>17.8</td>\n",
       "      <td>29.7</td>\n",
       "      <td>No</td>\n",
       "      <td>No</td>\n",
       "    </tr>\n",
       "  </tbody>\n",
       "</table>\n",
       "<p>5 rows × 23 columns</p>\n",
       "</div>"
      ],
      "text/plain": [
       "         Date Location  MinTemp  MaxTemp  Rainfall  Evaporation  Sunshine  \\\n",
       "0  2008-12-01   Albury     13.4     22.9       0.6          NaN       NaN   \n",
       "1  2008-12-02   Albury      7.4     25.1       0.0          NaN       NaN   \n",
       "2  2008-12-03   Albury     12.9     25.7       0.0          NaN       NaN   \n",
       "3  2008-12-04   Albury      9.2     28.0       0.0          NaN       NaN   \n",
       "4  2008-12-05   Albury     17.5     32.3       1.0          NaN       NaN   \n",
       "\n",
       "  WindGustDir  WindGustSpeed WindDir9am  ... Humidity9am  Humidity3pm  \\\n",
       "0           W           44.0          W  ...        71.0         22.0   \n",
       "1         WNW           44.0        NNW  ...        44.0         25.0   \n",
       "2         WSW           46.0          W  ...        38.0         30.0   \n",
       "3          NE           24.0         SE  ...        45.0         16.0   \n",
       "4           W           41.0        ENE  ...        82.0         33.0   \n",
       "\n",
       "   Pressure9am  Pressure3pm  Cloud9am  Cloud3pm  Temp9am  Temp3pm  RainToday  \\\n",
       "0       1007.7       1007.1       8.0       NaN     16.9     21.8         No   \n",
       "1       1010.6       1007.8       NaN       NaN     17.2     24.3         No   \n",
       "2       1007.6       1008.7       NaN       2.0     21.0     23.2         No   \n",
       "3       1017.6       1012.8       NaN       NaN     18.1     26.5         No   \n",
       "4       1010.8       1006.0       7.0       8.0     17.8     29.7         No   \n",
       "\n",
       "   RainTomorrow  \n",
       "0            No  \n",
       "1            No  \n",
       "2            No  \n",
       "3            No  \n",
       "4            No  \n",
       "\n",
       "[5 rows x 23 columns]"
      ]
     },
     "execution_count": 6,
     "metadata": {},
     "output_type": "execute_result"
    }
   ],
   "source": [
    "df.head()"
   ]
  },
  {
   "cell_type": "code",
   "execution_count": 7,
   "metadata": {
    "execution": {
     "iopub.execute_input": "2023-09-16T14:29:20.389492Z",
     "iopub.status.busy": "2023-09-16T14:29:20.389270Z",
     "iopub.status.idle": "2023-09-16T14:29:20.394339Z",
     "shell.execute_reply": "2023-09-16T14:29:20.393810Z",
     "shell.execute_reply.started": "2023-09-16T14:29:20.389468Z"
    }
   },
   "outputs": [
    {
     "data": {
      "text/plain": [
       "(145460, 23)"
      ]
     },
     "execution_count": 7,
     "metadata": {},
     "output_type": "execute_result"
    }
   ],
   "source": [
    "df.shape"
   ]
  },
  {
   "cell_type": "code",
   "execution_count": 8,
   "metadata": {
    "execution": {
     "iopub.execute_input": "2023-09-16T14:29:20.395605Z",
     "iopub.status.busy": "2023-09-16T14:29:20.395275Z",
     "iopub.status.idle": "2023-09-16T14:29:20.450657Z",
     "shell.execute_reply": "2023-09-16T14:29:20.449748Z",
     "shell.execute_reply.started": "2023-09-16T14:29:20.395581Z"
    }
   },
   "outputs": [
    {
     "data": {
      "text/plain": [
       "Date                 0\n",
       "Location             0\n",
       "MinTemp           1485\n",
       "MaxTemp           1261\n",
       "Rainfall          3261\n",
       "Evaporation      62790\n",
       "Sunshine         69835\n",
       "WindGustDir      10326\n",
       "WindGustSpeed    10263\n",
       "WindDir9am       10566\n",
       "WindDir3pm        4228\n",
       "WindSpeed9am      1767\n",
       "WindSpeed3pm      3062\n",
       "Humidity9am       2654\n",
       "Humidity3pm       4507\n",
       "Pressure9am      15065\n",
       "Pressure3pm      15028\n",
       "Cloud9am         55888\n",
       "Cloud3pm         59358\n",
       "Temp9am           1767\n",
       "Temp3pm           3609\n",
       "RainToday         3261\n",
       "RainTomorrow      3267\n",
       "dtype: int64"
      ]
     },
     "execution_count": 8,
     "metadata": {},
     "output_type": "execute_result"
    }
   ],
   "source": [
    "df.isnull().sum()"
   ]
  },
  {
   "cell_type": "code",
   "execution_count": 9,
   "metadata": {
    "execution": {
     "iopub.execute_input": "2023-09-16T14:29:20.453966Z",
     "iopub.status.busy": "2023-09-16T14:29:20.453728Z",
     "iopub.status.idle": "2023-09-16T14:29:20.461126Z",
     "shell.execute_reply": "2023-09-16T14:29:20.460142Z",
     "shell.execute_reply.started": "2023-09-16T14:29:20.453942Z"
    }
   },
   "outputs": [
    {
     "data": {
      "text/plain": [
       "Date              object\n",
       "Location          object\n",
       "MinTemp          float64\n",
       "MaxTemp          float64\n",
       "Rainfall         float64\n",
       "Evaporation      float64\n",
       "Sunshine         float64\n",
       "WindGustDir       object\n",
       "WindGustSpeed    float64\n",
       "WindDir9am        object\n",
       "WindDir3pm        object\n",
       "WindSpeed9am     float64\n",
       "WindSpeed3pm     float64\n",
       "Humidity9am      float64\n",
       "Humidity3pm      float64\n",
       "Pressure9am      float64\n",
       "Pressure3pm      float64\n",
       "Cloud9am         float64\n",
       "Cloud3pm         float64\n",
       "Temp9am          float64\n",
       "Temp3pm          float64\n",
       "RainToday         object\n",
       "RainTomorrow      object\n",
       "dtype: object"
      ]
     },
     "execution_count": 9,
     "metadata": {},
     "output_type": "execute_result"
    }
   ],
   "source": [
    "df.dtypes"
   ]
  },
  {
   "cell_type": "code",
   "execution_count": 10,
   "metadata": {
    "execution": {
     "iopub.execute_input": "2023-09-16T14:29:20.464660Z",
     "iopub.status.busy": "2023-09-16T14:29:20.464399Z",
     "iopub.status.idle": "2023-09-16T14:29:20.622108Z",
     "shell.execute_reply": "2023-09-16T14:29:20.621068Z",
     "shell.execute_reply.started": "2023-09-16T14:29:20.464636Z"
    }
   },
   "outputs": [],
   "source": [
    "df = df.fillna(df.mode().iloc[0])"
   ]
  },
  {
   "cell_type": "code",
   "execution_count": 11,
   "metadata": {
    "execution": {
     "iopub.execute_input": "2023-09-16T14:29:20.624655Z",
     "iopub.status.busy": "2023-09-16T14:29:20.624315Z",
     "iopub.status.idle": "2023-09-16T14:29:20.629929Z",
     "shell.execute_reply": "2023-09-16T14:29:20.629322Z",
     "shell.execute_reply.started": "2023-09-16T14:29:20.624610Z"
    }
   },
   "outputs": [
    {
     "data": {
      "text/plain": [
       "(145460, 23)"
      ]
     },
     "execution_count": 11,
     "metadata": {},
     "output_type": "execute_result"
    }
   ],
   "source": [
    "df.shape"
   ]
  },
  {
   "cell_type": "code",
   "execution_count": 12,
   "metadata": {
    "execution": {
     "iopub.execute_input": "2023-09-16T14:29:20.631145Z",
     "iopub.status.busy": "2023-09-16T14:29:20.630830Z",
     "iopub.status.idle": "2023-09-16T14:29:20.733799Z",
     "shell.execute_reply": "2023-09-16T14:29:20.733019Z",
     "shell.execute_reply.started": "2023-09-16T14:29:20.631115Z"
    }
   },
   "outputs": [
    {
     "data": {
      "text/html": [
       "<div>\n",
       "<style scoped>\n",
       "    .dataframe tbody tr th:only-of-type {\n",
       "        vertical-align: middle;\n",
       "    }\n",
       "\n",
       "    .dataframe tbody tr th {\n",
       "        vertical-align: top;\n",
       "    }\n",
       "\n",
       "    .dataframe thead th {\n",
       "        text-align: right;\n",
       "    }\n",
       "</style>\n",
       "<table border=\"1\" class=\"dataframe\">\n",
       "  <thead>\n",
       "    <tr style=\"text-align: right;\">\n",
       "      <th></th>\n",
       "      <th>count</th>\n",
       "      <th>mean</th>\n",
       "      <th>std</th>\n",
       "      <th>min</th>\n",
       "      <th>25%</th>\n",
       "      <th>50%</th>\n",
       "      <th>75%</th>\n",
       "      <th>max</th>\n",
       "    </tr>\n",
       "  </thead>\n",
       "  <tbody>\n",
       "    <tr>\n",
       "      <th>MinTemp</th>\n",
       "      <td>145460.0</td>\n",
       "      <td>12.181844</td>\n",
       "      <td>6.366881</td>\n",
       "      <td>-8.5</td>\n",
       "      <td>7.7</td>\n",
       "      <td>11.9</td>\n",
       "      <td>16.8</td>\n",
       "      <td>33.9</td>\n",
       "    </tr>\n",
       "    <tr>\n",
       "      <th>MaxTemp</th>\n",
       "      <td>145460.0</td>\n",
       "      <td>23.193422</td>\n",
       "      <td>7.094412</td>\n",
       "      <td>-4.8</td>\n",
       "      <td>18.0</td>\n",
       "      <td>22.5</td>\n",
       "      <td>28.2</td>\n",
       "      <td>48.1</td>\n",
       "    </tr>\n",
       "    <tr>\n",
       "      <th>Rainfall</th>\n",
       "      <td>145460.0</td>\n",
       "      <td>2.307990</td>\n",
       "      <td>8.389771</td>\n",
       "      <td>0.0</td>\n",
       "      <td>0.0</td>\n",
       "      <td>0.0</td>\n",
       "      <td>0.6</td>\n",
       "      <td>371.0</td>\n",
       "    </tr>\n",
       "    <tr>\n",
       "      <th>Evaporation</th>\n",
       "      <td>145460.0</td>\n",
       "      <td>4.834447</td>\n",
       "      <td>3.244103</td>\n",
       "      <td>0.0</td>\n",
       "      <td>4.0</td>\n",
       "      <td>4.0</td>\n",
       "      <td>5.2</td>\n",
       "      <td>145.0</td>\n",
       "    </tr>\n",
       "    <tr>\n",
       "      <th>Sunshine</th>\n",
       "      <td>145460.0</td>\n",
       "      <td>3.957069</td>\n",
       "      <td>4.680785</td>\n",
       "      <td>0.0</td>\n",
       "      <td>0.0</td>\n",
       "      <td>0.1</td>\n",
       "      <td>8.7</td>\n",
       "      <td>14.5</td>\n",
       "    </tr>\n",
       "    <tr>\n",
       "      <th>WindGustSpeed</th>\n",
       "      <td>145460.0</td>\n",
       "      <td>39.679967</td>\n",
       "      <td>13.181471</td>\n",
       "      <td>6.0</td>\n",
       "      <td>31.0</td>\n",
       "      <td>37.0</td>\n",
       "      <td>46.0</td>\n",
       "      <td>135.0</td>\n",
       "    </tr>\n",
       "    <tr>\n",
       "      <th>WindSpeed9am</th>\n",
       "      <td>145460.0</td>\n",
       "      <td>13.982160</td>\n",
       "      <td>8.878266</td>\n",
       "      <td>0.0</td>\n",
       "      <td>7.0</td>\n",
       "      <td>13.0</td>\n",
       "      <td>19.0</td>\n",
       "      <td>130.0</td>\n",
       "    </tr>\n",
       "    <tr>\n",
       "      <th>WindSpeed3pm</th>\n",
       "      <td>145460.0</td>\n",
       "      <td>18.543455</td>\n",
       "      <td>8.754403</td>\n",
       "      <td>0.0</td>\n",
       "      <td>13.0</td>\n",
       "      <td>17.0</td>\n",
       "      <td>24.0</td>\n",
       "      <td>87.0</td>\n",
       "    </tr>\n",
       "    <tr>\n",
       "      <th>Humidity9am</th>\n",
       "      <td>145460.0</td>\n",
       "      <td>69.430373</td>\n",
       "      <td>19.280872</td>\n",
       "      <td>0.0</td>\n",
       "      <td>57.0</td>\n",
       "      <td>70.0</td>\n",
       "      <td>84.0</td>\n",
       "      <td>100.0</td>\n",
       "    </tr>\n",
       "    <tr>\n",
       "      <th>Humidity3pm</th>\n",
       "      <td>145460.0</td>\n",
       "      <td>51.553396</td>\n",
       "      <td>20.471345</td>\n",
       "      <td>0.0</td>\n",
       "      <td>37.0</td>\n",
       "      <td>52.0</td>\n",
       "      <td>65.0</td>\n",
       "      <td>100.0</td>\n",
       "    </tr>\n",
       "    <tr>\n",
       "      <th>Pressure9am</th>\n",
       "      <td>145460.0</td>\n",
       "      <td>1017.520486</td>\n",
       "      <td>6.739237</td>\n",
       "      <td>980.5</td>\n",
       "      <td>1013.5</td>\n",
       "      <td>1016.6</td>\n",
       "      <td>1021.8</td>\n",
       "      <td>1041.0</td>\n",
       "    </tr>\n",
       "    <tr>\n",
       "      <th>Pressure3pm</th>\n",
       "      <td>145460.0</td>\n",
       "      <td>1015.260446</td>\n",
       "      <td>6.663986</td>\n",
       "      <td>977.1</td>\n",
       "      <td>1011.1</td>\n",
       "      <td>1015.3</td>\n",
       "      <td>1019.4</td>\n",
       "      <td>1039.6</td>\n",
       "    </tr>\n",
       "    <tr>\n",
       "      <th>Cloud9am</th>\n",
       "      <td>145460.0</td>\n",
       "      <td>5.428186</td>\n",
       "      <td>2.583504</td>\n",
       "      <td>0.0</td>\n",
       "      <td>3.0</td>\n",
       "      <td>7.0</td>\n",
       "      <td>7.0</td>\n",
       "      <td>9.0</td>\n",
       "    </tr>\n",
       "    <tr>\n",
       "      <th>Cloud3pm</th>\n",
       "      <td>145460.0</td>\n",
       "      <td>5.526055</td>\n",
       "      <td>2.424496</td>\n",
       "      <td>0.0</td>\n",
       "      <td>4.0</td>\n",
       "      <td>7.0</td>\n",
       "      <td>7.0</td>\n",
       "      <td>9.0</td>\n",
       "    </tr>\n",
       "    <tr>\n",
       "      <th>Temp9am</th>\n",
       "      <td>145460.0</td>\n",
       "      <td>16.990745</td>\n",
       "      <td>6.449221</td>\n",
       "      <td>-7.2</td>\n",
       "      <td>12.3</td>\n",
       "      <td>16.8</td>\n",
       "      <td>21.5</td>\n",
       "      <td>40.2</td>\n",
       "    </tr>\n",
       "    <tr>\n",
       "      <th>Temp3pm</th>\n",
       "      <td>145460.0</td>\n",
       "      <td>21.641624</td>\n",
       "      <td>6.855060</td>\n",
       "      <td>-5.4</td>\n",
       "      <td>16.7</td>\n",
       "      <td>20.9</td>\n",
       "      <td>26.2</td>\n",
       "      <td>46.7</td>\n",
       "    </tr>\n",
       "  </tbody>\n",
       "</table>\n",
       "</div>"
      ],
      "text/plain": [
       "                  count         mean        std    min     25%     50%  \\\n",
       "MinTemp        145460.0    12.181844   6.366881   -8.5     7.7    11.9   \n",
       "MaxTemp        145460.0    23.193422   7.094412   -4.8    18.0    22.5   \n",
       "Rainfall       145460.0     2.307990   8.389771    0.0     0.0     0.0   \n",
       "Evaporation    145460.0     4.834447   3.244103    0.0     4.0     4.0   \n",
       "Sunshine       145460.0     3.957069   4.680785    0.0     0.0     0.1   \n",
       "WindGustSpeed  145460.0    39.679967  13.181471    6.0    31.0    37.0   \n",
       "WindSpeed9am   145460.0    13.982160   8.878266    0.0     7.0    13.0   \n",
       "WindSpeed3pm   145460.0    18.543455   8.754403    0.0    13.0    17.0   \n",
       "Humidity9am    145460.0    69.430373  19.280872    0.0    57.0    70.0   \n",
       "Humidity3pm    145460.0    51.553396  20.471345    0.0    37.0    52.0   \n",
       "Pressure9am    145460.0  1017.520486   6.739237  980.5  1013.5  1016.6   \n",
       "Pressure3pm    145460.0  1015.260446   6.663986  977.1  1011.1  1015.3   \n",
       "Cloud9am       145460.0     5.428186   2.583504    0.0     3.0     7.0   \n",
       "Cloud3pm       145460.0     5.526055   2.424496    0.0     4.0     7.0   \n",
       "Temp9am        145460.0    16.990745   6.449221   -7.2    12.3    16.8   \n",
       "Temp3pm        145460.0    21.641624   6.855060   -5.4    16.7    20.9   \n",
       "\n",
       "                  75%     max  \n",
       "MinTemp          16.8    33.9  \n",
       "MaxTemp          28.2    48.1  \n",
       "Rainfall          0.6   371.0  \n",
       "Evaporation       5.2   145.0  \n",
       "Sunshine          8.7    14.5  \n",
       "WindGustSpeed    46.0   135.0  \n",
       "WindSpeed9am     19.0   130.0  \n",
       "WindSpeed3pm     24.0    87.0  \n",
       "Humidity9am      84.0   100.0  \n",
       "Humidity3pm      65.0   100.0  \n",
       "Pressure9am    1021.8  1041.0  \n",
       "Pressure3pm    1019.4  1039.6  \n",
       "Cloud9am          7.0     9.0  \n",
       "Cloud3pm          7.0     9.0  \n",
       "Temp9am          21.5    40.2  \n",
       "Temp3pm          26.2    46.7  "
      ]
     },
     "execution_count": 12,
     "metadata": {},
     "output_type": "execute_result"
    }
   ],
   "source": [
    "df.describe().transpose()"
   ]
  },
  {
   "cell_type": "markdown",
   "metadata": {},
   "source": [
    "# Preprocessing"
   ]
  },
  {
   "cell_type": "code",
   "execution_count": 13,
   "metadata": {
    "execution": {
     "iopub.execute_input": "2023-09-16T14:29:20.735215Z",
     "iopub.status.busy": "2023-09-16T14:29:20.734946Z",
     "iopub.status.idle": "2023-09-16T14:29:21.667885Z",
     "shell.execute_reply": "2023-09-16T14:29:21.667145Z",
     "shell.execute_reply.started": "2023-09-16T14:29:20.735191Z"
    }
   },
   "outputs": [],
   "source": [
    "from sklearn import preprocessing\n",
    "le = preprocessing.LabelEncoder()\n",
    "df['WindGustDir'] = le.fit_transform(df['WindGustDir'])\n",
    "df['WindDir9am'] = le.fit_transform(df['WindDir9am'])\n",
    "df['WindDir3pm'] = le.fit_transform(df['WindDir3pm'])\n",
    "df['RainToday'] = le.fit_transform(df['RainToday'])\n",
    "df['RainTomorrow'] = le.fit_transform(df['RainTomorrow'])"
   ]
  },
  {
   "cell_type": "code",
   "execution_count": 14,
   "metadata": {
    "execution": {
     "iopub.execute_input": "2023-09-16T14:29:21.669155Z",
     "iopub.status.busy": "2023-09-16T14:29:21.668925Z",
     "iopub.status.idle": "2023-09-16T14:29:21.675572Z",
     "shell.execute_reply": "2023-09-16T14:29:21.674788Z",
     "shell.execute_reply.started": "2023-09-16T14:29:21.669130Z"
    }
   },
   "outputs": [
    {
     "data": {
      "text/plain": [
       "Date              object\n",
       "Location          object\n",
       "MinTemp          float64\n",
       "MaxTemp          float64\n",
       "Rainfall         float64\n",
       "Evaporation      float64\n",
       "Sunshine         float64\n",
       "WindGustDir        int64\n",
       "WindGustSpeed    float64\n",
       "WindDir9am         int64\n",
       "WindDir3pm         int64\n",
       "WindSpeed9am     float64\n",
       "WindSpeed3pm     float64\n",
       "Humidity9am      float64\n",
       "Humidity3pm      float64\n",
       "Pressure9am      float64\n",
       "Pressure3pm      float64\n",
       "Cloud9am         float64\n",
       "Cloud3pm         float64\n",
       "Temp9am          float64\n",
       "Temp3pm          float64\n",
       "RainToday          int64\n",
       "RainTomorrow       int64\n",
       "dtype: object"
      ]
     },
     "execution_count": 14,
     "metadata": {},
     "output_type": "execute_result"
    }
   ],
   "source": [
    "df.dtypes"
   ]
  },
  {
   "cell_type": "markdown",
   "metadata": {},
   "source": [
    "# Visualizing Data"
   ]
  },
  {
   "cell_type": "code",
   "execution_count": 15,
   "metadata": {
    "execution": {
     "iopub.execute_input": "2023-09-16T14:29:21.676959Z",
     "iopub.status.busy": "2023-09-16T14:29:21.676628Z",
     "iopub.status.idle": "2023-09-16T14:29:24.116824Z",
     "shell.execute_reply": "2023-09-16T14:29:24.116080Z",
     "shell.execute_reply.started": "2023-09-16T14:29:21.676929Z"
    }
   },
   "outputs": [
    {
     "name": "stderr",
     "output_type": "stream",
     "text": [
      "/opt/conda/lib/python3.7/site-packages/ipykernel_launcher.py:5: UserWarning: To output multiple subplots, the figure containing the passed axes is being cleared\n",
      "  \"\"\"\n"
     ]
    },
    {
     "data": {
      "image/png": "[encoded data removed]",
      "text/plain": [
       "<Figure size 1440x1080 with 25 Axes>"
      ]
     },
     "metadata": {
      "needs_background": "light"
     },
     "output_type": "display_data"
    }
   ],
   "source": [
    "import seaborn as sns \n",
    "import matplotlib.pyplot as plt \n",
    "fig = plt.figure(figsize = (20,15))\n",
    "ax = fig.gca()\n",
    "df.hist(ax=ax)\n",
    "plt.show()"
   ]
  },
  {
   "cell_type": "code",
   "execution_count": 16,
   "metadata": {
    "execution": {
     "iopub.execute_input": "2023-09-16T14:29:24.117952Z",
     "iopub.status.busy": "2023-09-16T14:29:24.117691Z",
     "iopub.status.idle": "2023-09-16T14:29:24.129131Z",
     "shell.execute_reply": "2023-09-16T14:29:24.128078Z",
     "shell.execute_reply.started": "2023-09-16T14:29:24.117927Z"
    }
   },
   "outputs": [],
   "source": [
    "df = df.drop(['Date','Location'],axis=1)"
   ]
  },
  {
   "cell_type": "code",
   "execution_count": 17,
   "metadata": {
    "execution": {
     "iopub.execute_input": "2023-09-16T14:29:24.130294Z",
     "iopub.status.busy": "2023-09-16T14:29:24.130032Z",
     "iopub.status.idle": "2023-09-16T14:29:24.140312Z",
     "shell.execute_reply": "2023-09-16T14:29:24.139761Z",
     "shell.execute_reply.started": "2023-09-16T14:29:24.130270Z"
    }
   },
   "outputs": [],
   "source": [
    "colum_name = df.columns"
   ]
  },
  {
   "cell_type": "markdown",
   "metadata": {},
   "source": [
    "## Standardization Data"
   ]
  },
  {
   "cell_type": "code",
   "execution_count": 18,
   "metadata": {
    "execution": {
     "iopub.execute_input": "2023-09-16T14:29:24.141257Z",
     "iopub.status.busy": "2023-09-16T14:29:24.141058Z",
     "iopub.status.idle": "2023-09-16T14:29:24.194244Z",
     "shell.execute_reply": "2023-09-16T14:29:24.193500Z",
     "shell.execute_reply.started": "2023-09-16T14:29:24.141235Z"
    }
   },
   "outputs": [],
   "source": [
    "from sklearn.preprocessing import StandardScaler\n",
    "scaler = StandardScaler()\n",
    "df_scale = pd.DataFrame(scaler.fit_transform(df))"
   ]
  },
  {
   "cell_type": "code",
   "execution_count": 19,
   "metadata": {
    "execution": {
     "iopub.execute_input": "2023-09-16T14:29:24.195462Z",
     "iopub.status.busy": "2023-09-16T14:29:24.195146Z",
     "iopub.status.idle": "2023-09-16T14:29:24.205958Z",
     "shell.execute_reply": "2023-09-16T14:29:24.205000Z",
     "shell.execute_reply.started": "2023-09-16T14:29:24.195437Z"
    }
   },
   "outputs": [],
   "source": [
    "df_scale.columns = colum_name\n",
    "df_scale['RainTomorrow'] = le.fit_transform(df_scale['RainTomorrow'])"
   ]
  },
  {
   "cell_type": "code",
   "execution_count": 20,
   "metadata": {
    "execution": {
     "iopub.execute_input": "2023-09-16T14:29:24.207408Z",
     "iopub.status.busy": "2023-09-16T14:29:24.207193Z",
     "iopub.status.idle": "2023-09-16T14:29:24.336666Z",
     "shell.execute_reply": "2023-09-16T14:29:24.335269Z",
     "shell.execute_reply.started": "2023-09-16T14:29:24.207386Z"
    }
   },
   "outputs": [
    {
     "data": {
      "text/html": [
       "<div>\n",
       "<style scoped>\n",
       "    .dataframe tbody tr th:only-of-type {\n",
       "        vertical-align: middle;\n",
       "    }\n",
       "\n",
       "    .dataframe tbody tr th {\n",
       "        vertical-align: top;\n",
       "    }\n",
       "\n",
       "    .dataframe thead th {\n",
       "        text-align: right;\n",
       "    }\n",
       "</style>\n",
       "<table border=\"1\" class=\"dataframe\">\n",
       "  <thead>\n",
       "    <tr style=\"text-align: right;\">\n",
       "      <th></th>\n",
       "      <th>MinTemp</th>\n",
       "      <th>MaxTemp</th>\n",
       "      <th>Rainfall</th>\n",
       "      <th>Evaporation</th>\n",
       "      <th>Sunshine</th>\n",
       "      <th>WindGustDir</th>\n",
       "      <th>WindGustSpeed</th>\n",
       "      <th>WindDir9am</th>\n",
       "      <th>WindDir3pm</th>\n",
       "      <th>WindSpeed9am</th>\n",
       "      <th>...</th>\n",
       "      <th>Humidity9am</th>\n",
       "      <th>Humidity3pm</th>\n",
       "      <th>Pressure9am</th>\n",
       "      <th>Pressure3pm</th>\n",
       "      <th>Cloud9am</th>\n",
       "      <th>Cloud3pm</th>\n",
       "      <th>Temp9am</th>\n",
       "      <th>Temp3pm</th>\n",
       "      <th>RainToday</th>\n",
       "      <th>RainTomorrow</th>\n",
       "    </tr>\n",
       "  </thead>\n",
       "  <tbody>\n",
       "    <tr>\n",
       "      <th>0</th>\n",
       "      <td>0.191328</td>\n",
       "      <td>-0.041360</td>\n",
       "      <td>-0.203581</td>\n",
       "      <td>-0.257221</td>\n",
       "      <td>-0.845389</td>\n",
       "      <td>1.045228</td>\n",
       "      <td>0.327736</td>\n",
       "      <td>1.328766</td>\n",
       "      <td>1.366458</td>\n",
       "      <td>0.677819</td>\n",
       "      <td>...</td>\n",
       "      <td>0.081409</td>\n",
       "      <td>-1.443652</td>\n",
       "      <td>-1.457215</td>\n",
       "      <td>-1.224564</td>\n",
       "      <td>0.995479</td>\n",
       "      <td>0.607941</td>\n",
       "      <td>-0.014071</td>\n",
       "      <td>0.023104</td>\n",
       "      <td>-0.529795</td>\n",
       "      <td>0</td>\n",
       "    </tr>\n",
       "    <tr>\n",
       "      <th>1</th>\n",
       "      <td>-0.751052</td>\n",
       "      <td>0.268745</td>\n",
       "      <td>-0.275097</td>\n",
       "      <td>-0.257221</td>\n",
       "      <td>-0.845389</td>\n",
       "      <td>1.258262</td>\n",
       "      <td>0.327736</td>\n",
       "      <td>-0.221338</td>\n",
       "      <td>1.586813</td>\n",
       "      <td>-1.124341</td>\n",
       "      <td>...</td>\n",
       "      <td>-1.318948</td>\n",
       "      <td>-1.297105</td>\n",
       "      <td>-1.026898</td>\n",
       "      <td>-1.119521</td>\n",
       "      <td>0.608406</td>\n",
       "      <td>0.607941</td>\n",
       "      <td>0.032447</td>\n",
       "      <td>0.387799</td>\n",
       "      <td>-0.529795</td>\n",
       "      <td>0</td>\n",
       "    </tr>\n",
       "    <tr>\n",
       "      <th>2</th>\n",
       "      <td>0.112796</td>\n",
       "      <td>0.353318</td>\n",
       "      <td>-0.275097</td>\n",
       "      <td>-0.257221</td>\n",
       "      <td>-0.845389</td>\n",
       "      <td>1.471296</td>\n",
       "      <td>0.479465</td>\n",
       "      <td>1.328766</td>\n",
       "      <td>1.586813</td>\n",
       "      <td>0.565184</td>\n",
       "      <td>...</td>\n",
       "      <td>-1.630138</td>\n",
       "      <td>-1.052860</td>\n",
       "      <td>-1.472054</td>\n",
       "      <td>-0.984466</td>\n",
       "      <td>0.608406</td>\n",
       "      <td>-1.454351</td>\n",
       "      <td>0.621667</td>\n",
       "      <td>0.227333</td>\n",
       "      <td>-0.529795</td>\n",
       "      <td>0</td>\n",
       "    </tr>\n",
       "    <tr>\n",
       "      <th>3</th>\n",
       "      <td>-0.468338</td>\n",
       "      <td>0.677518</td>\n",
       "      <td>-0.275097</td>\n",
       "      <td>-0.257221</td>\n",
       "      <td>-0.845389</td>\n",
       "      <td>-0.872075</td>\n",
       "      <td>-1.189550</td>\n",
       "      <td>0.442992</td>\n",
       "      <td>-1.718521</td>\n",
       "      <td>-0.335896</td>\n",
       "      <td>...</td>\n",
       "      <td>-1.267083</td>\n",
       "      <td>-1.736746</td>\n",
       "      <td>0.011799</td>\n",
       "      <td>-0.369217</td>\n",
       "      <td>0.608406</td>\n",
       "      <td>0.607941</td>\n",
       "      <td>0.171999</td>\n",
       "      <td>0.708731</td>\n",
       "      <td>-0.529795</td>\n",
       "      <td>0</td>\n",
       "    </tr>\n",
       "    <tr>\n",
       "      <th>4</th>\n",
       "      <td>0.835287</td>\n",
       "      <td>1.283631</td>\n",
       "      <td>-0.155903</td>\n",
       "      <td>-0.257221</td>\n",
       "      <td>-0.845389</td>\n",
       "      <td>1.045228</td>\n",
       "      <td>0.100143</td>\n",
       "      <td>-1.328556</td>\n",
       "      <td>-0.176032</td>\n",
       "      <td>-0.786436</td>\n",
       "      <td>...</td>\n",
       "      <td>0.651924</td>\n",
       "      <td>-0.906314</td>\n",
       "      <td>-0.997221</td>\n",
       "      <td>-1.389630</td>\n",
       "      <td>0.608406</td>\n",
       "      <td>1.020399</td>\n",
       "      <td>0.125481</td>\n",
       "      <td>1.175541</td>\n",
       "      <td>-0.529795</td>\n",
       "      <td>0</td>\n",
       "    </tr>\n",
       "  </tbody>\n",
       "</table>\n",
       "<p>5 rows × 21 columns</p>\n",
       "</div>"
      ],
      "text/plain": [
       "    MinTemp   MaxTemp  Rainfall  Evaporation  Sunshine  WindGustDir  \\\n",
       "0  0.191328 -0.041360 -0.203581    -0.257221 -0.845389     1.045228   \n",
       "1 -0.751052  0.268745 -0.275097    -0.257221 -0.845389     1.258262   \n",
       "2  0.112796  0.353318 -0.275097    -0.257221 -0.845389     1.471296   \n",
       "3 -0.468338  0.677518 -0.275097    -0.257221 -0.845389    -0.872075   \n",
       "4  0.835287  1.283631 -0.155903    -0.257221 -0.845389     1.045228   \n",
       "\n",
       "   WindGustSpeed  WindDir9am  WindDir3pm  WindSpeed9am  ...  Humidity9am  \\\n",
       "0       0.327736    1.328766    1.366458      0.677819  ...     0.081409   \n",
       "1       0.327736   -0.221338    1.586813     -1.124341  ...    -1.318948   \n",
       "2       0.479465    1.328766    1.586813      0.565184  ...    -1.630138   \n",
       "3      -1.189550    0.442992   -1.718521     -0.335896  ...    -1.267083   \n",
       "4       0.100143   -1.328556   -0.176032     -0.786436  ...     0.651924   \n",
       "\n",
       "   Humidity3pm  Pressure9am  Pressure3pm  Cloud9am  Cloud3pm   Temp9am  \\\n",
       "0    -1.443652    -1.457215    -1.224564  0.995479  0.607941 -0.014071   \n",
       "1    -1.297105    -1.026898    -1.119521  0.608406  0.607941  0.032447   \n",
       "2    -1.052860    -1.472054    -0.984466  0.608406 -1.454351  0.621667   \n",
       "3    -1.736746     0.011799    -0.369217  0.608406  0.607941  0.171999   \n",
       "4    -0.906314    -0.997221    -1.389630  0.608406  1.020399  0.125481   \n",
       "\n",
       "    Temp3pm  RainToday  RainTomorrow  \n",
       "0  0.023104  -0.529795             0  \n",
       "1  0.387799  -0.529795             0  \n",
       "2  0.227333  -0.529795             0  \n",
       "3  0.708731  -0.529795             0  \n",
       "4  1.175541  -0.529795             0  \n",
       "\n",
       "[5 rows x 21 columns]"
      ]
     },
     "execution_count": 20,
     "metadata": {},
     "output_type": "execute_result"
    }
   ],
   "source": [
    "df_scale.head()"
   ]
  },
  {
   "cell_type": "code",
   "execution_count": 21,
   "metadata": {
    "execution": {
     "iopub.execute_input": "2023-09-16T14:29:24.338332Z",
     "iopub.status.busy": "2023-09-16T14:29:24.338083Z",
     "iopub.status.idle": "2023-09-16T14:29:24.347969Z",
     "shell.execute_reply": "2023-09-16T14:29:24.346874Z",
     "shell.execute_reply.started": "2023-09-16T14:29:24.338305Z"
    }
   },
   "outputs": [],
   "source": [
    "X = df_scale.drop(['RainTomorrow'],axis=1)\n",
    "y = df_scale['RainTomorrow']"
   ]
  },
  {
   "cell_type": "code",
   "execution_count": 22,
   "metadata": {
    "execution": {
     "iopub.execute_input": "2023-09-16T14:29:24.349750Z",
     "iopub.status.busy": "2023-09-16T14:29:24.349377Z",
     "iopub.status.idle": "2023-09-16T14:29:24.373695Z",
     "shell.execute_reply": "2023-09-16T14:29:24.372660Z",
     "shell.execute_reply.started": "2023-09-16T14:29:24.349683Z"
    }
   },
   "outputs": [
    {
     "data": {
      "text/html": [
       "<div>\n",
       "<style scoped>\n",
       "    .dataframe tbody tr th:only-of-type {\n",
       "        vertical-align: middle;\n",
       "    }\n",
       "\n",
       "    .dataframe tbody tr th {\n",
       "        vertical-align: top;\n",
       "    }\n",
       "\n",
       "    .dataframe thead th {\n",
       "        text-align: right;\n",
       "    }\n",
       "</style>\n",
       "<table border=\"1\" class=\"dataframe\">\n",
       "  <thead>\n",
       "    <tr style=\"text-align: right;\">\n",
       "      <th></th>\n",
       "      <th>MinTemp</th>\n",
       "      <th>MaxTemp</th>\n",
       "      <th>Rainfall</th>\n",
       "      <th>Evaporation</th>\n",
       "      <th>Sunshine</th>\n",
       "      <th>WindGustDir</th>\n",
       "      <th>WindGustSpeed</th>\n",
       "      <th>WindDir9am</th>\n",
       "      <th>WindDir3pm</th>\n",
       "      <th>WindSpeed9am</th>\n",
       "      <th>WindSpeed3pm</th>\n",
       "      <th>Humidity9am</th>\n",
       "      <th>Humidity3pm</th>\n",
       "      <th>Pressure9am</th>\n",
       "      <th>Pressure3pm</th>\n",
       "      <th>Cloud9am</th>\n",
       "      <th>Cloud3pm</th>\n",
       "      <th>Temp9am</th>\n",
       "      <th>Temp3pm</th>\n",
       "      <th>RainToday</th>\n",
       "    </tr>\n",
       "  </thead>\n",
       "  <tbody>\n",
       "    <tr>\n",
       "      <th>0</th>\n",
       "      <td>0.191328</td>\n",
       "      <td>-0.041360</td>\n",
       "      <td>-0.203581</td>\n",
       "      <td>-0.257221</td>\n",
       "      <td>-0.845389</td>\n",
       "      <td>1.045228</td>\n",
       "      <td>0.327736</td>\n",
       "      <td>1.328766</td>\n",
       "      <td>1.366458</td>\n",
       "      <td>0.677819</td>\n",
       "      <td>0.623294</td>\n",
       "      <td>0.081409</td>\n",
       "      <td>-1.443652</td>\n",
       "      <td>-1.457215</td>\n",
       "      <td>-1.224564</td>\n",
       "      <td>0.995479</td>\n",
       "      <td>0.607941</td>\n",
       "      <td>-0.014071</td>\n",
       "      <td>0.023104</td>\n",
       "      <td>-0.529795</td>\n",
       "    </tr>\n",
       "    <tr>\n",
       "      <th>1</th>\n",
       "      <td>-0.751052</td>\n",
       "      <td>0.268745</td>\n",
       "      <td>-0.275097</td>\n",
       "      <td>-0.257221</td>\n",
       "      <td>-0.845389</td>\n",
       "      <td>1.258262</td>\n",
       "      <td>0.327736</td>\n",
       "      <td>-0.221338</td>\n",
       "      <td>1.586813</td>\n",
       "      <td>-1.124341</td>\n",
       "      <td>0.394836</td>\n",
       "      <td>-1.318948</td>\n",
       "      <td>-1.297105</td>\n",
       "      <td>-1.026898</td>\n",
       "      <td>-1.119521</td>\n",
       "      <td>0.608406</td>\n",
       "      <td>0.607941</td>\n",
       "      <td>0.032447</td>\n",
       "      <td>0.387799</td>\n",
       "      <td>-0.529795</td>\n",
       "    </tr>\n",
       "    <tr>\n",
       "      <th>2</th>\n",
       "      <td>0.112796</td>\n",
       "      <td>0.353318</td>\n",
       "      <td>-0.275097</td>\n",
       "      <td>-0.257221</td>\n",
       "      <td>-0.845389</td>\n",
       "      <td>1.471296</td>\n",
       "      <td>0.479465</td>\n",
       "      <td>1.328766</td>\n",
       "      <td>1.586813</td>\n",
       "      <td>0.565184</td>\n",
       "      <td>0.851751</td>\n",
       "      <td>-1.630138</td>\n",
       "      <td>-1.052860</td>\n",
       "      <td>-1.472054</td>\n",
       "      <td>-0.984466</td>\n",
       "      <td>0.608406</td>\n",
       "      <td>-1.454351</td>\n",
       "      <td>0.621667</td>\n",
       "      <td>0.227333</td>\n",
       "      <td>-0.529795</td>\n",
       "    </tr>\n",
       "    <tr>\n",
       "      <th>3</th>\n",
       "      <td>-0.468338</td>\n",
       "      <td>0.677518</td>\n",
       "      <td>-0.275097</td>\n",
       "      <td>-0.257221</td>\n",
       "      <td>-0.845389</td>\n",
       "      <td>-0.872075</td>\n",
       "      <td>-1.189550</td>\n",
       "      <td>0.442992</td>\n",
       "      <td>-1.718521</td>\n",
       "      <td>-0.335896</td>\n",
       "      <td>-1.090136</td>\n",
       "      <td>-1.267083</td>\n",
       "      <td>-1.736746</td>\n",
       "      <td>0.011799</td>\n",
       "      <td>-0.369217</td>\n",
       "      <td>0.608406</td>\n",
       "      <td>0.607941</td>\n",
       "      <td>0.171999</td>\n",
       "      <td>0.708731</td>\n",
       "      <td>-0.529795</td>\n",
       "    </tr>\n",
       "    <tr>\n",
       "      <th>4</th>\n",
       "      <td>0.835287</td>\n",
       "      <td>1.283631</td>\n",
       "      <td>-0.155903</td>\n",
       "      <td>-0.257221</td>\n",
       "      <td>-0.845389</td>\n",
       "      <td>1.045228</td>\n",
       "      <td>0.100143</td>\n",
       "      <td>-1.328556</td>\n",
       "      <td>-0.176032</td>\n",
       "      <td>-0.786436</td>\n",
       "      <td>0.166379</td>\n",
       "      <td>0.651924</td>\n",
       "      <td>-0.906314</td>\n",
       "      <td>-0.997221</td>\n",
       "      <td>-1.389630</td>\n",
       "      <td>0.608406</td>\n",
       "      <td>1.020399</td>\n",
       "      <td>0.125481</td>\n",
       "      <td>1.175541</td>\n",
       "      <td>-0.529795</td>\n",
       "    </tr>\n",
       "  </tbody>\n",
       "</table>\n",
       "</div>"
      ],
      "text/plain": [
       "    MinTemp   MaxTemp  Rainfall  Evaporation  Sunshine  WindGustDir  \\\n",
       "0  0.191328 -0.041360 -0.203581    -0.257221 -0.845389     1.045228   \n",
       "1 -0.751052  0.268745 -0.275097    -0.257221 -0.845389     1.258262   \n",
       "2  0.112796  0.353318 -0.275097    -0.257221 -0.845389     1.471296   \n",
       "3 -0.468338  0.677518 -0.275097    -0.257221 -0.845389    -0.872075   \n",
       "4  0.835287  1.283631 -0.155903    -0.257221 -0.845389     1.045228   \n",
       "\n",
       "   WindGustSpeed  WindDir9am  WindDir3pm  WindSpeed9am  WindSpeed3pm  \\\n",
       "0       0.327736    1.328766    1.366458      0.677819      0.623294   \n",
       "1       0.327736   -0.221338    1.586813     -1.124341      0.394836   \n",
       "2       0.479465    1.328766    1.586813      0.565184      0.851751   \n",
       "3      -1.189550    0.442992   -1.718521     -0.335896     -1.090136   \n",
       "4       0.100143   -1.328556   -0.176032     -0.786436      0.166379   \n",
       "\n",
       "   Humidity9am  Humidity3pm  Pressure9am  Pressure3pm  Cloud9am  Cloud3pm  \\\n",
       "0     0.081409    -1.443652    -1.457215    -1.224564  0.995479  0.607941   \n",
       "1    -1.318948    -1.297105    -1.026898    -1.119521  0.608406  0.607941   \n",
       "2    -1.630138    -1.052860    -1.472054    -0.984466  0.608406 -1.454351   \n",
       "3    -1.267083    -1.736746     0.011799    -0.369217  0.608406  0.607941   \n",
       "4     0.651924    -0.906314    -0.997221    -1.389630  0.608406  1.020399   \n",
       "\n",
       "    Temp9am   Temp3pm  RainToday  \n",
       "0 -0.014071  0.023104  -0.529795  \n",
       "1  0.032447  0.387799  -0.529795  \n",
       "2  0.621667  0.227333  -0.529795  \n",
       "3  0.171999  0.708731  -0.529795  \n",
       "4  0.125481  1.175541  -0.529795  "
      ]
     },
     "execution_count": 22,
     "metadata": {},
     "output_type": "execute_result"
    }
   ],
   "source": [
    "X.head()"
   ]
  },
  {
   "cell_type": "code",
   "execution_count": 23,
   "metadata": {
    "execution": {
     "iopub.execute_input": "2023-09-16T14:29:24.375618Z",
     "iopub.status.busy": "2023-09-16T14:29:24.375206Z",
     "iopub.status.idle": "2023-09-16T14:29:24.659740Z",
     "shell.execute_reply": "2023-09-16T14:29:24.658796Z",
     "shell.execute_reply.started": "2023-09-16T14:29:24.375587Z"
    }
   },
   "outputs": [],
   "source": [
    "from yellowbrick.target import FeatureCorrelation\n",
    "feature_names = list(X.columns)"
   ]
  },
  {
   "cell_type": "markdown",
   "metadata": {},
   "source": [
    "### Feature Correlation "
   ]
  },
  {
   "cell_type": "code",
   "execution_count": 24,
   "metadata": {
    "execution": {
     "iopub.execute_input": "2023-09-16T14:29:24.661148Z",
     "iopub.status.busy": "2023-09-16T14:29:24.660901Z",
     "iopub.status.idle": "2023-09-16T14:29:24.897754Z",
     "shell.execute_reply": "2023-09-16T14:29:24.896629Z",
     "shell.execute_reply.started": "2023-09-16T14:29:24.661121Z"
    }
   },
   "outputs": [
    {
     "data": {
      "image/png": "[encoded data removed]",
      "text/plain": [
       "<Figure size 576x396 with 1 Axes>"
      ]
     },
     "metadata": {},
     "output_type": "display_data"
    },
    {
     "data": {
      "text/plain": [
       "<AxesSubplot:title={'center':'Features correlation with dependent variable'}, xlabel='Pearson Correlation'>"
      ]
     },
     "execution_count": 24,
     "metadata": {},
     "output_type": "execute_result"
    }
   ],
   "source": [
    "visualizer = FeatureCorrelation(labels = feature_names)\n",
    "visualizer.fit(X, y)\n",
    "visualizer.poof()"
   ]
  },
  {
   "cell_type": "code",
   "execution_count": 25,
   "metadata": {
    "execution": {
     "iopub.execute_input": "2023-09-16T14:29:24.899694Z",
     "iopub.status.busy": "2023-09-16T14:29:24.899336Z",
     "iopub.status.idle": "2023-09-16T14:29:27.288045Z",
     "shell.execute_reply": "2023-09-16T14:29:27.287053Z",
     "shell.execute_reply.started": "2023-09-16T14:29:24.899658Z"
    }
   },
   "outputs": [
    {
     "data": {
      "image/png": "[encoded data removed]",
      "text/plain": [
       "<Figure size 2880x864 with 1 Axes>"
      ]
     },
     "metadata": {},
     "output_type": "display_data"
    }
   ],
   "source": [
    "boxplot = df_scale.boxplot(figsize=(40, 12))"
   ]
  },
  {
   "cell_type": "code",
   "execution_count": 26,
   "metadata": {
    "execution": {
     "iopub.execute_input": "2023-09-16T14:29:27.289200Z",
     "iopub.status.busy": "2023-09-16T14:29:27.288982Z",
     "iopub.status.idle": "2023-09-16T14:29:27.319441Z",
     "shell.execute_reply": "2023-09-16T14:29:27.318496Z",
     "shell.execute_reply.started": "2023-09-16T14:29:27.289177Z"
    }
   },
   "outputs": [],
   "source": [
    "from sklearn.model_selection import train_test_split\n",
    "X_train_s, X_test_s, y_train_s, y_test_s = train_test_split(X, y, test_size = 0.33, random_state = 42)"
   ]
  },
  {
   "cell_type": "markdown",
   "metadata": {},
   "source": [
    "#  Model 1 "
   ]
  },
  {
   "cell_type": "code",
   "execution_count": 27,
   "metadata": {},
   "outputs": [
    {
     "name": "stdout",
     "output_type": "stream",
     "text": [
      "Model: \"sequential\"\n",
      "_________________________________________________________________\n",
      " Layer (type)                Output Shape              Param #   \n",
      "=================================================================\n",
      " conv2d (Conv2D)             (None, 62, 62, 32)        320       \n",
      "                                                                 \n",
      " max_pooling2d (MaxPooling2D  (None, 31, 31, 32)       0         \n",
      " )                                                               \n",
      "                                                                 \n",
      " conv2d_1 (Conv2D)           (None, 29, 29, 32)        9248      \n",
      "                                                                 \n",
      " max_pooling2d_1 (MaxPooling  (None, 14, 14, 32)       0         \n",
      " 2D)                                                             \n",
      "                                                                 \n",
      " conv2d_2 (Conv2D)           (None, 12, 12, 32)        9248      \n",
      "                                                                 \n",
      " max_pooling2d_2 (MaxPooling  (None, 6, 6, 32)         0         \n",
      " 2D)                                                             \n",
      "                                                                 \n",
      " flatten (Flatten)           (None, 1152)              0         \n",
      "                                                                 \n",
      " dense (Dense)               (None, 128)               147584    \n",
      "                                                                 \n",
      " dense_1 (Dense)             (None, 1)                 129       \n",
      "                                                                 \n",
      "=================================================================\n",
      "Total params: 166,529\n",
      "Trainable params: 166,529\n",
      "Non-trainable params: 0\n",
      "_________________________________________________________________\n"
     ]
    }
   ],
   "source": [
    "from keras.models import Sequential\n",
    "from keras.layers import Conv2D, MaxPooling2D, Flatten, Dense\n",
    "import matplotlib.pyplot as plt\n",
    "model = Sequential()\n",
    "model.add(Conv2D(32, (3, 3), input_shape = (64, 64, 1), activation = 'relu'))\n",
    "model.add(MaxPooling2D(pool_size = (2, 2)))\n",
    "model.add(Conv2D(32, (3, 3), activation = 'relu'))\n",
    "model.add(MaxPooling2D(pool_size = (2, 2)))\n",
    "model.add(Conv2D(32, (3, 3), activation = 'relu'))\n",
    "model.add(MaxPooling2D(pool_size = (2, 2)))\n",
    "model.add(Flatten())\n",
    "model.add(Dense(units = 128, activation = 'relu'))\n",
    "model.add(Dense(units = 1, activation = 'sigmoid'))\n",
    "\n",
    "# Compile the CNN\n",
    "model.compile(optimizer = 'adam', loss = 'binary_crossentropy', metrics = ['accuracy'])\n",
    "\n",
    "# Visualize the model\n",
    "model.summary()"
   ]
  },
  {
   "cell_type": "code",
   "execution_count": 28,
   "metadata": {},
   "outputs": [
    {
     "name": "stdout",
     "output_type": "stream",
     "text": [
      "You must install pydot (`pip install pydot`) and install graphviz (see instructions at https://graphviz.gitlab.io/download/) for plot_model to work.\n"
     ]
    }
   ],
   "source": [
    "import tensorflow as tf\n",
    "from tensorflow.keras import layers, models\n",
    "from tensorflow.keras.utils import plot_model\n",
    "\n",
    "# Define the CNN model architecture\n",
    "def create_model():\n",
    "    model = models.Sequential([\n",
    "        layers.Conv2D(32, (3, 3), activation='relu', input_shape=(64, 64, 3)),\n",
    "        layers.MaxPooling2D((2, 2)),\n",
    "        layers.Conv2D(64, (3, 3), activation='relu'),\n",
    "        layers.MaxPooling2D((2, 2)),\n",
    "        layers.Conv2D(64, (3, 3), activation='relu'),\n",
    "        layers.Flatten(),\n",
    "        layers.Dense(64, activation='relu'),\n",
    "        layers.Dense(1, activation='sigmoid')\n",
    "    ])\n",
    "    return model\n",
    "\n",
    "# Create the model\n",
    "model = create_model()\n",
    "\n",
    "# Visualize the model architecture\n",
    "plot_model(model, to_file='model.png', show_shapes=True)"
   ]
  },
  {
   "cell_type": "code",
   "execution_count": null,
   "metadata": {},
   "outputs": [],
   "source": []
  }
 ],
 "metadata": {
  "kernelspec": {
   "display_name": "Python 3 (ipykernel)",
   "language": "python",
   "name": "python3"
  },
  "language_info": {
   "codemirror_mode": {
    "name": "ipython",
    "version": 3
   },
   "file_extension": ".py",
   "mimetype": "text/x-python",
   "name": "python",
   "nbconvert_exporter": "python",
   "pygments_lexer": "ipython3",
   "version": "3.9.18"
  }
 },
 "nbformat": 4,
 "nbformat_minor": 4
}
